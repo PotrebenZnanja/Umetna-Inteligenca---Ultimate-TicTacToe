{
 "cells": [
  {
   "cell_type": "code",
   "execution_count": 1,
   "id": "c5621375-eefa-4242-b63e-41443e2b6c32",
   "metadata": {},
   "outputs": [],
   "source": [
    "import numpy as np\n",
    "from sortedcontainers import SortedDict"
   ]
  },
  {
   "cell_type": "code",
   "execution_count": 56,
   "id": "467e739c-a3cb-47a6-9244-6ed6765aebd5",
   "metadata": {},
   "outputs": [],
   "source": [
    "def board_hash(board):\n",
    "    return ''.join(map(str, board.ravel()))\n",
    "\n",
    "def get_simple_symmetry(board, rot):\n",
    "    if rot == 1:\n",
    "        return np.rot90(board)\n",
    "    elif rot == 2:\n",
    "        return np.rot90(board, k=2)\n",
    "    elif rot == 3:\n",
    "        return np.rot90(board, k=-1)\n",
    "    elif rot == 4:\n",
    "        return np.transpose(board)\n",
    "    elif rot == 5:\n",
    "        return np.rot90(np.transpose(board))\n",
    "    elif rot == 6:\n",
    "        return np.rot90(np.transpose(board), k=2)\n",
    "    elif rot == 7:\n",
    "        return np.rot90(np.transpose(board), k=-1)\n",
    "    else:\n",
    "        return board\n",
    "\n",
    "def get_symmetry_index(index, rot):\n",
    "    board = np.zeros((3, 3), dtype=np.int8)\n",
    "    board[index] = 1\n",
    "    return next(zip(*np.where(get_simple_symmetry(board, rot) == 1)))\n",
    "\n",
    "def encode_index(index):\n",
    "    return index[0] * 3 + index[1]\n",
    "\n",
    "def get_canonical_hash(board, subgame):\n",
    "    rot1 = np.rot90(np.rot90(board, axes=(2,3)))\n",
    "    rot2 = np.rot90(np.rot90(rot1, axes=(2,3)))\n",
    "    rot3 = np.rot90(np.rot90(rot2, axes=(2,3)))\n",
    "    flip = np.transpose(board, axes=(1,0,3,2))\n",
    "    flip_rot1 = np.rot90(np.rot90(flip, axes=(2,3)))\n",
    "    flip_rot2 = np.rot90(np.rot90(flip_rot1, axes=(2,3)))\n",
    "    flip_rot3 = np.rot90(np.rot90(flip_rot2, axes=(2,3)))\n",
    "\n",
    "    board_hashes = map(board_hash, [board, rot1, rot2, rot3, flip, flip_rot1, flip_rot2, flip_rot3])\n",
    "    #print(list(board_hashes))\n",
    "\n",
    "    s_board = np.zeros((3, 3), dtype=np.int8)\n",
    "    if subgame is None:\n",
    "        s_board_hashes = [board_hash(s_board)] * 8\n",
    "    else:\n",
    "        s_board[subgame] = 1\n",
    "        s_rot1 = np.rot90(s_board)\n",
    "        s_rot2 = np.rot90(s_rot1)\n",
    "        s_rot3 = np.rot90(s_rot2)\n",
    "        s_flip = np.transpose(s_board)\n",
    "        s_flip_rot1 = np.rot90(s_flip)\n",
    "        s_flip_rot2 = np.rot90(s_flip_rot1)\n",
    "        s_flip_rot3 = np.rot90(s_flip_rot2)\n",
    "\n",
    "        s_board_hashes = map(board_hash, [s_board, s_rot1, s_rot2, s_rot3, s_flip, s_flip_rot1, s_flip_rot2, s_flip_rot3])\n",
    "\n",
    "    combined_hashes = map(lambda x: x[0] + x[1], zip(board_hashes, s_board_hashes))\n",
    "    \n",
    "    return max(combined_hashes)"
   ]
  },
  {
   "cell_type": "code",
   "execution_count": 32,
   "id": "cb443435-7998-423c-aa2e-e79507873d71",
   "metadata": {},
   "outputs": [],
   "source": [
    "def is_game_win(board, play):\n",
    "    y, x = play\n",
    "    if board[y, 0] == board[y, 1] == board[y, 2] != 0:\n",
    "        return True\n",
    "    elif board[0, x] == board[1, x] == board[2, x] != 0:\n",
    "        return True\n",
    "    elif y == x and board[0, 0] == board[1, 1] == board[2, 2] != 0:\n",
    "        return True\n",
    "    elif y + x == 2 and board[0, 2] == board[1, 1] == board[2, 0] != 0:\n",
    "        return True\n",
    "    else:\n",
    "        return False"
   ]
  },
  {
   "cell_type": "code",
   "execution_count": 63,
   "id": "6ca75e1a-dbc8-4e25-b2cf-9d5af4b1132c",
   "metadata": {},
   "outputs": [],
   "source": [
    "def gen(a):\n",
    "    while True:\n",
    "        yield a\n",
    "\n",
    "def get_valid_moves(board, subgame):\n",
    "    if subgame is None:\n",
    "        valid = np.where(board == 0)\n",
    "        return zip(*valid)\n",
    "    else:\n",
    "        valid = np.where(board[subgame] == 0)\n",
    "        return zip(gen(subgame[0]), gen(subgame[1]), *valid)"
   ]
  },
  {
   "cell_type": "code",
   "execution_count": 61,
   "id": "deadf167-c93b-454e-a03d-c15ff2c502e0",
   "metadata": {},
   "outputs": [],
   "source": [
    "def explore(by_depth, player):\n",
    "    states = by_depth[-1].values()\n",
    "\n",
    "    by_depth.append(SortedDict())\n",
    "    new_states = by_depth[-1]\n",
    "\n",
    "    for board, macro, subgame, winning in states:\n",
    "        if winning:\n",
    "            continue\n",
    "\n",
    "        for play in get_valid_moves(board, subgame):\n",
    "            new_board = board.copy()\n",
    "            new_board[play] = player\n",
    "            if len(play) < 4:\n",
    "                print(play)\n",
    "            macro_play = (play[0], play[1])\n",
    "            micro_play = (play[2], play[3])\n",
    "            new_macro = macro\n",
    "            if is_game_win(new_board[macro_play], micro_play):\n",
    "                new_board[macro_play] = player\n",
    "                new_macro = macro.copy()\n",
    "                new_macro[macro_play] = player\n",
    "                new_subgame = None\n",
    "            else:\n",
    "                new_subgame = micro_play\n",
    "\n",
    "            canonical_hash = get_canonical_hash(new_board, new_subgame)\n",
    "            if canonical_hash not in new_states:\n",
    "                new_winning = is_game_win(new_macro, macro_play)\n",
    "                new_states.setdefault(canonical_hash, default=(new_board, new_macro, new_subgame, new_winning))"
   ]
  },
  {
   "cell_type": "code",
   "execution_count": 64,
   "id": "d3c33716-b4dc-4285-b6d6-4d25946d70fc",
   "metadata": {
    "scrolled": true
   },
   "outputs": [
    {
     "name": "stdout",
     "output_type": "stream",
     "text": [
      "15\n",
      "102\n",
      "822\n",
      "6920\n",
      "58282\n",
      "482954\n"
     ]
    },
    {
     "ename": "KeyboardInterrupt",
     "evalue": "",
     "output_type": "error",
     "traceback": [
      "\u001b[0;31m---------------------------------------------------------------------------\u001b[0m",
      "\u001b[0;31mKeyboardInterrupt\u001b[0m                         Traceback (most recent call last)",
      "Cell \u001b[0;32mIn[64], line 11\u001b[0m\n\u001b[1;32m      8\u001b[0m player \u001b[38;5;241m=\u001b[39m \u001b[38;5;241m2\u001b[39m\n\u001b[1;32m      9\u001b[0m \u001b[38;5;28;01mfor\u001b[39;00m depth \u001b[38;5;129;01min\u001b[39;00m \u001b[38;5;28mrange\u001b[39m(board\u001b[38;5;241m.\u001b[39msize):\n\u001b[1;32m     10\u001b[0m \u001b[38;5;66;03m#for depth in range(1):\u001b[39;00m\n\u001b[0;32m---> 11\u001b[0m     \u001b[43mexplore\u001b[49m\u001b[43m(\u001b[49m\u001b[43mby_depth\u001b[49m\u001b[43m,\u001b[49m\u001b[43m \u001b[49m\u001b[43mplayer\u001b[49m\u001b[43m)\u001b[49m\n\u001b[1;32m     13\u001b[0m     \u001b[38;5;28mprint\u001b[39m(\u001b[38;5;28mlen\u001b[39m(by_depth[\u001b[38;5;241m-\u001b[39m\u001b[38;5;241m1\u001b[39m]))\n\u001b[1;32m     14\u001b[0m     player \u001b[38;5;241m=\u001b[39m \u001b[38;5;241m2\u001b[39m \u001b[38;5;28;01mif\u001b[39;00m player \u001b[38;5;241m==\u001b[39m \u001b[38;5;241m1\u001b[39m \u001b[38;5;28;01melse\u001b[39;00m \u001b[38;5;241m1\u001b[39m\n",
      "Cell \u001b[0;32mIn[61], line 27\u001b[0m, in \u001b[0;36mexplore\u001b[0;34m(by_depth, player)\u001b[0m\n\u001b[1;32m     24\u001b[0m \u001b[38;5;28;01melse\u001b[39;00m:\n\u001b[1;32m     25\u001b[0m     new_subgame \u001b[38;5;241m=\u001b[39m micro_play\n\u001b[0;32m---> 27\u001b[0m canonical_hash \u001b[38;5;241m=\u001b[39m \u001b[43mget_canonical_hash\u001b[49m\u001b[43m(\u001b[49m\u001b[43mnew_board\u001b[49m\u001b[43m,\u001b[49m\u001b[43m \u001b[49m\u001b[43mnew_subgame\u001b[49m\u001b[43m)\u001b[49m\n\u001b[1;32m     28\u001b[0m \u001b[38;5;28;01mif\u001b[39;00m canonical_hash \u001b[38;5;129;01mnot\u001b[39;00m \u001b[38;5;129;01min\u001b[39;00m new_states:\n\u001b[1;32m     29\u001b[0m     new_winning \u001b[38;5;241m=\u001b[39m is_game_win(new_macro, macro_play)\n",
      "Cell \u001b[0;32mIn[56], line 31\u001b[0m, in \u001b[0;36mget_canonical_hash\u001b[0;34m(board, subgame)\u001b[0m\n\u001b[1;32m     30\u001b[0m \u001b[38;5;28;01mdef\u001b[39;00m \u001b[38;5;21mget_canonical_hash\u001b[39m(board, subgame):\n\u001b[0;32m---> 31\u001b[0m     rot1 \u001b[38;5;241m=\u001b[39m \u001b[43mnp\u001b[49m\u001b[38;5;241;43m.\u001b[39;49m\u001b[43mrot90\u001b[49m\u001b[43m(\u001b[49m\u001b[43mnp\u001b[49m\u001b[38;5;241;43m.\u001b[39;49m\u001b[43mrot90\u001b[49m\u001b[43m(\u001b[49m\u001b[43mboard\u001b[49m\u001b[43m,\u001b[49m\u001b[43m \u001b[49m\u001b[43maxes\u001b[49m\u001b[38;5;241;43m=\u001b[39;49m\u001b[43m(\u001b[49m\u001b[38;5;241;43m2\u001b[39;49m\u001b[43m,\u001b[49m\u001b[38;5;241;43m3\u001b[39;49m\u001b[43m)\u001b[49m\u001b[43m)\u001b[49m\u001b[43m)\u001b[49m\n\u001b[1;32m     32\u001b[0m     rot2 \u001b[38;5;241m=\u001b[39m np\u001b[38;5;241m.\u001b[39mrot90(np\u001b[38;5;241m.\u001b[39mrot90(rot1, axes\u001b[38;5;241m=\u001b[39m(\u001b[38;5;241m2\u001b[39m,\u001b[38;5;241m3\u001b[39m)))\n\u001b[1;32m     33\u001b[0m     rot3 \u001b[38;5;241m=\u001b[39m np\u001b[38;5;241m.\u001b[39mrot90(np\u001b[38;5;241m.\u001b[39mrot90(rot2, axes\u001b[38;5;241m=\u001b[39m(\u001b[38;5;241m2\u001b[39m,\u001b[38;5;241m3\u001b[39m)))\n",
      "File \u001b[0;32m~/.local/lib/python3.10/site-packages/numpy/lib/function_base.py:222\u001b[0m, in \u001b[0;36mrot90\u001b[0;34m(m, k, axes)\u001b[0m\n\u001b[1;32m    219\u001b[0m \u001b[38;5;28;01mif\u001b[39;00m \u001b[38;5;28mlen\u001b[39m(axes) \u001b[38;5;241m!=\u001b[39m \u001b[38;5;241m2\u001b[39m:\n\u001b[1;32m    220\u001b[0m     \u001b[38;5;28;01mraise\u001b[39;00m \u001b[38;5;167;01mValueError\u001b[39;00m(\u001b[38;5;124m\"\u001b[39m\u001b[38;5;124mlen(axes) must be 2.\u001b[39m\u001b[38;5;124m\"\u001b[39m)\n\u001b[0;32m--> 222\u001b[0m m \u001b[38;5;241m=\u001b[39m \u001b[43masanyarray\u001b[49m\u001b[43m(\u001b[49m\u001b[43mm\u001b[49m\u001b[43m)\u001b[49m\n\u001b[1;32m    224\u001b[0m \u001b[38;5;28;01mif\u001b[39;00m axes[\u001b[38;5;241m0\u001b[39m] \u001b[38;5;241m==\u001b[39m axes[\u001b[38;5;241m1\u001b[39m] \u001b[38;5;129;01mor\u001b[39;00m absolute(axes[\u001b[38;5;241m0\u001b[39m] \u001b[38;5;241m-\u001b[39m axes[\u001b[38;5;241m1\u001b[39m]) \u001b[38;5;241m==\u001b[39m m\u001b[38;5;241m.\u001b[39mndim:\n\u001b[1;32m    225\u001b[0m     \u001b[38;5;28;01mraise\u001b[39;00m \u001b[38;5;167;01mValueError\u001b[39;00m(\u001b[38;5;124m\"\u001b[39m\u001b[38;5;124mAxes must be different.\u001b[39m\u001b[38;5;124m\"\u001b[39m)\n",
      "\u001b[0;31mKeyboardInterrupt\u001b[0m: "
     ]
    }
   ],
   "source": [
    "board = np.zeros((3, 3, 3, 3), dtype=np.int8)\n",
    "macro = np.zeros((3, 3), dtype=np.int8)\n",
    "subgame = None\n",
    "winning = False\n",
    "initial_state = (board, macro, subgame, winning)\n",
    "by_depth = [SortedDict.fromkeys([get_canonical_hash(board, subgame)], initial_state)]\n",
    "\n",
    "player = 2\n",
    "for depth in range(board.size):\n",
    "#for depth in range(1):\n",
    "    explore(by_depth, player)\n",
    "    \n",
    "    print(len(by_depth[-1]))\n",
    "    player = 2 if player == 1 else 1"
   ]
  },
  {
   "cell_type": "code",
   "execution_count": 70,
   "id": "b51ac6f2-0830-4443-bcca-1081f020f31e",
   "metadata": {},
   "outputs": [
    {
     "name": "stdout",
     "output_type": "stream",
     "text": [
      "['000000000000000000000000000000000000000020000000000000000000000000000000000000000000010000', '000000000000000000000000000000000000020000000000000000000000000000000000000000000010000000', '000000000000000000000000000000000000200000000000000000000000000000000000000000000100000000', '000000000000000020000000000000000000000000000000000000000000000000000000000000000000000010', '000000000000000200000000000000000000000000000000000000000000000000000000000000000000000100', '000000000000020000000000000000000000000000000000000000000000000000000000000000000000010000', '000000000000200000000000000000000000000000000000000000000000000000000000000000000000100000', '000000000020000000000000000000000000000000000000000000000000000000000000000000000010000000', '000000000200000000000000000000000000000000000000000000000000000000000000000000000100000000', '000000002000000000000000000000000000000000000000000000000000000000000000000000000000000001', '000002000000000000000000000000000000000000000000000000000000000000000000000000000000001000', '000020000000000000000000000000000000000000000000000000000000000000000000000000000000010000', '002000000000000000000000000000000000000000000000000000000000000000000000000000000001000000', '020000000000000000000000000000000000000000000000000000000000000000000000000000000010000000', '200000000000000000000000000000000000000000000000000000000000000000000000000000000100000000']\n"
     ]
    }
   ],
   "source": [
    "print(list(by_depth[1].keys()))"
   ]
  }
 ],
 "metadata": {
  "kernelspec": {
   "display_name": "Python 3 (ipykernel)",
   "language": "python",
   "name": "python3"
  },
  "language_info": {
   "codemirror_mode": {
    "name": "ipython",
    "version": 3
   },
   "file_extension": ".py",
   "mimetype": "text/x-python",
   "name": "python",
   "nbconvert_exporter": "python",
   "pygments_lexer": "ipython3",
   "version": "3.10.12"
  }
 },
 "nbformat": 4,
 "nbformat_minor": 5
}
