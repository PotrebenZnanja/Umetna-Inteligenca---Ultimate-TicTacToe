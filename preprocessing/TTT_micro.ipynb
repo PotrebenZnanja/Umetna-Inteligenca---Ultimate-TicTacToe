{
 "cells": [
  {
   "cell_type": "code",
   "execution_count": 1,
   "id": "59e67303-e460-4f7b-8ec9-11e5623cc95d",
   "metadata": {},
   "outputs": [],
   "source": [
    "#pip install sortedcontainers"
   ]
  },
  {
   "cell_type": "code",
   "execution_count": 2,
   "id": "c5621375-eefa-4242-b63e-41443e2b6c32",
   "metadata": {},
   "outputs": [],
   "source": [
    "import numpy as np\n",
    "from sortedcontainers import SortedDict"
   ]
  },
  {
   "cell_type": "code",
   "execution_count": 3,
   "id": "aaee8edd-c64e-4cd8-b4a2-00ad529b1b4f",
   "metadata": {},
   "outputs": [],
   "source": [
    "board = np.zeros((3, 3), dtype=np.int8)"
   ]
  },
  {
   "cell_type": "code",
   "execution_count": 4,
   "id": "0dd415b9-8609-48dd-81c5-58b4b07dda79",
   "metadata": {},
   "outputs": [
    {
     "data": {
      "text/plain": [
       "array([[1, 2, 0],\n",
       "       [0, 0, 0],\n",
       "       [0, 0, 0]], dtype=int8)"
      ]
     },
     "execution_count": 4,
     "metadata": {},
     "output_type": "execute_result"
    }
   ],
   "source": [
    "board[0][0] = 1\n",
    "board[0][1] = 2\n",
    "board"
   ]
  },
  {
   "cell_type": "code",
   "execution_count": 5,
   "id": "fcc6abde-fa2e-4080-9879-4d6ecdce3b73",
   "metadata": {},
   "outputs": [
    {
     "data": {
      "text/plain": [
       "array([[0, 0, 0],\n",
       "       [2, 0, 0],\n",
       "       [1, 0, 0]], dtype=int8)"
      ]
     },
     "execution_count": 5,
     "metadata": {},
     "output_type": "execute_result"
    }
   ],
   "source": [
    "np.rot90(board)"
   ]
  },
  {
   "cell_type": "code",
   "execution_count": 6,
   "id": "4695b43b-b414-464f-bcac-e98a4b6863bb",
   "metadata": {},
   "outputs": [
    {
     "data": {
      "text/plain": [
       "array([[1, 0, 0],\n",
       "       [2, 0, 0],\n",
       "       [0, 0, 0]], dtype=int8)"
      ]
     },
     "execution_count": 6,
     "metadata": {},
     "output_type": "execute_result"
    }
   ],
   "source": [
    "np.transpose(board)"
   ]
  },
  {
   "cell_type": "code",
   "execution_count": 7,
   "id": "467e739c-a3cb-47a6-9244-6ed6765aebd5",
   "metadata": {},
   "outputs": [],
   "source": [
    "def hash(board):\n",
    "    return ''.join(map(str, board.ravel()))"
   ]
  },
  {
   "cell_type": "code",
   "execution_count": 8,
   "id": "6e8b9115-3ce9-40e6-ab98-011c0cc18c71",
   "metadata": {},
   "outputs": [],
   "source": [
    "def get_canonical(board):\n",
    "    rot1 = np.rot90(board)\n",
    "    rot2 = np.rot90(rot1)\n",
    "    rot3 = np.rot90(rot2)\n",
    "    flip = np.transpose(board)\n",
    "    flip_rot1 = np.rot90(flip)\n",
    "    flip_rot2 = np.rot90(flip_rot1)\n",
    "    flip_rot3 = np.rot90(flip_rot2)\n",
    "\n",
    "    best = max([\n",
    "        (hash(rot1), rot1, 1),\n",
    "        (hash(rot2), rot2, 2),\n",
    "        (hash(rot3), rot3, 3),\n",
    "        (hash(flip), flip, 4),\n",
    "        (hash(flip_rot1), flip_rot1, 5),\n",
    "        (hash(flip_rot2), flip_rot2, 6),\n",
    "        (hash(flip_rot3), flip_rot3, 7)\n",
    "    ], key=lambda x: x[0])\n",
    "\n",
    "    board_hash = hash(board)\n",
    "    \n",
    "    if best[0] > board_hash:\n",
    "        return best\n",
    "    else:\n",
    "        return board_hash, board, 0"
   ]
  },
  {
   "cell_type": "code",
   "execution_count": 9,
   "id": "c1595c77-2072-431e-8110-0c355b827e0f",
   "metadata": {},
   "outputs": [
    {
     "data": {
      "text/plain": [
       "('120000000',\n",
       " array([[1, 2, 0],\n",
       "        [0, 0, 0],\n",
       "        [0, 0, 0]], dtype=int8),\n",
       " 0)"
      ]
     },
     "execution_count": 9,
     "metadata": {},
     "output_type": "execute_result"
    }
   ],
   "source": [
    "get_canonical(board)"
   ]
  },
  {
   "cell_type": "code",
   "execution_count": 10,
   "id": "b673b89f-3ba5-42c4-bf97-df4668b1bb4b",
   "metadata": {},
   "outputs": [],
   "source": [
    "def is_win(board, last_played):\n",
    "    y, x = last_played\n",
    "    if board[y, 0] == board[y, 1] == board[y, 2] != 0:\n",
    "        return True\n",
    "    if board[0, x] == board[1, x] == board[2, x] != 0:\n",
    "        return True\n",
    "    if y == x and board[0, 0] == board[1, 1] == board[2, 2]:\n",
    "        return True\n",
    "    if y + x == 2 and board[0, 2] == board[1, 1] == board[2, 0]:\n",
    "        return True"
   ]
  },
  {
   "cell_type": "code",
   "execution_count": 11,
   "id": "fbe718c1-12ca-41c5-b249-ebfd9ed54171",
   "metadata": {},
   "outputs": [],
   "source": [
    "def is_functional_draw(board):\n",
    "    for player in [1, 2]:\n",
    "        draw_board = board == player\n",
    "        #print(draw_board)\n",
    "        if not (\n",
    "            np.all(np.sum(draw_board, axis=0) != 0) and\n",
    "            np.all(np.sum(draw_board, axis=1) != 0) and\n",
    "            np.sum(draw_board.diagonal()) != 0 and\n",
    "            np.sum(np.fliplr(draw_board).diagonal()) != 0\n",
    "        ):\n",
    "            return False\n",
    "    return True"
   ]
  },
  {
   "cell_type": "code",
   "execution_count": 12,
   "id": "6921f4d2-4f53-4073-a420-fde792de90c1",
   "metadata": {},
   "outputs": [
    {
     "data": {
      "text/plain": [
       "array([[1, 1, 2],\n",
       "       [2, 2, 1],\n",
       "       [0, 0, 0]], dtype=int8)"
      ]
     },
     "execution_count": 12,
     "metadata": {},
     "output_type": "execute_result"
    }
   ],
   "source": [
    "board = np.array([[1,1,2],[2,2,1],[0,0,0]], dtype=np.int8)\n",
    "board"
   ]
  },
  {
   "cell_type": "code",
   "execution_count": 13,
   "id": "9b2150c5-95e6-46c6-a211-3f2e45ab6189",
   "metadata": {},
   "outputs": [
    {
     "data": {
      "text/plain": [
       "False"
      ]
     },
     "execution_count": 13,
     "metadata": {},
     "output_type": "execute_result"
    }
   ],
   "source": [
    "is_functional_draw(board)"
   ]
  },
  {
   "cell_type": "code",
   "execution_count": 14,
   "id": "a6e51e97-414b-44d2-bf69-37d9a6e24380",
   "metadata": {},
   "outputs": [
    {
     "data": {
      "text/plain": [
       "array([[1, 1, 2],\n",
       "       [2, 2, 1],\n",
       "       [1, 0, 0]], dtype=int8)"
      ]
     },
     "execution_count": 14,
     "metadata": {},
     "output_type": "execute_result"
    }
   ],
   "source": [
    "board[2,0] = 1\n",
    "board"
   ]
  },
  {
   "cell_type": "code",
   "execution_count": 15,
   "id": "5e603db4-2293-4e81-9c36-f8eb2e80650c",
   "metadata": {},
   "outputs": [
    {
     "data": {
      "text/plain": [
       "False"
      ]
     },
     "execution_count": 15,
     "metadata": {},
     "output_type": "execute_result"
    }
   ],
   "source": [
    "is_functional_draw(board)"
   ]
  },
  {
   "cell_type": "code",
   "execution_count": 16,
   "id": "c20c5b6a-fe4a-45d2-885d-a37eb0a0af50",
   "metadata": {},
   "outputs": [
    {
     "data": {
      "text/plain": [
       "array([[1, 1, 2],\n",
       "       [2, 2, 1],\n",
       "       [1, 0, 2]], dtype=int8)"
      ]
     },
     "execution_count": 16,
     "metadata": {},
     "output_type": "execute_result"
    }
   ],
   "source": [
    "board[2,2] = 2\n",
    "board"
   ]
  },
  {
   "cell_type": "code",
   "execution_count": 17,
   "id": "d2bfd862-7ef6-469a-a3cd-5edd205e7b60",
   "metadata": {},
   "outputs": [
    {
     "data": {
      "text/plain": [
       "True"
      ]
     },
     "execution_count": 17,
     "metadata": {},
     "output_type": "execute_result"
    }
   ],
   "source": [
    "is_functional_draw(board)"
   ]
  },
  {
   "cell_type": "code",
   "execution_count": 18,
   "id": "4e531f30-3797-4caf-acf3-bedfe17a50a3",
   "metadata": {},
   "outputs": [
    {
     "name": "stdout",
     "output_type": "stream",
     "text": [
      "6\n",
      "28\n",
      "108\n",
      "298\n",
      "572\n",
      "739\n",
      "610\n",
      "272\n",
      "60\n"
     ]
    },
    {
     "data": {
      "text/plain": [
       "[1, 6, 28, 108, 298, 572, 739, 610, 272, 60]"
      ]
     },
     "execution_count": 18,
     "metadata": {},
     "output_type": "execute_result"
    }
   ],
   "source": [
    "board = np.zeros((3, 3), dtype=np.int8)\n",
    "by_depth = [SortedDict.fromkeys([hash(board)], (board, [0], []))]\n",
    "\n",
    "for depth in range(board.size):\n",
    "    start_positions = by_depth[-1]\n",
    "    #print('---')\n",
    "    #print(start_positions)\n",
    "    by_depth.append(SortedDict())\n",
    "    valid_positions = by_depth[-1]\n",
    "\n",
    "    for player in [1, 2]:\n",
    "        for i, (start_pos_hash, (start_pos, winning_state, _)) in enumerate(start_positions.items()):\n",
    "            if winning_state[0] == 1 or winning_state[0] == 2:\n",
    "                continue\n",
    "            for playable_index in zip(*np.where(start_pos == 0)):\n",
    "                new_board = start_pos.copy()\n",
    "                new_board[playable_index] = player\n",
    "                canonical_hash, canonical_board, _ = get_canonical(new_board)\n",
    "\n",
    "                if canonical_hash not in valid_positions:\n",
    "                    winning = player if is_win(new_board, playable_index) else 4 if is_functional_draw(new_board) else 0\n",
    "                    valid_positions.setdefault(canonical_hash, default=(canonical_board, [winning], [i]))\n",
    "                else:\n",
    "                    reachable_from = valid_positions[canonical_hash][2]\n",
    "                    if not reachable_from or reachable_from[-1] != i:\n",
    "                        reachable_from.append(i)\n",
    "\n",
    "    print(len(valid_positions))\n",
    "\n",
    "by_len = list(map(len, by_depth))\n",
    "by_len"
   ]
  },
  {
   "cell_type": "code",
   "execution_count": 19,
   "id": "b44bd9e7-b778-4742-a0d7-6d5d0adbe2f4",
   "metadata": {},
   "outputs": [
    {
     "data": {
      "text/plain": [
       "2694"
      ]
     },
     "execution_count": 19,
     "metadata": {},
     "output_type": "execute_result"
    }
   ],
   "source": [
    "sum(by_len)"
   ]
  },
  {
   "cell_type": "code",
   "execution_count": 20,
   "id": "9955ca31-ad8a-4e37-a37e-f8bf3b504dfa",
   "metadata": {},
   "outputs": [],
   "source": [
    "#by_depth[0]"
   ]
  },
  {
   "cell_type": "code",
   "execution_count": 21,
   "id": "10ee417e-f885-4e04-9628-59982c71b9de",
   "metadata": {},
   "outputs": [],
   "source": [
    "#by_depth[1]"
   ]
  },
  {
   "cell_type": "code",
   "execution_count": 22,
   "id": "ffbb8747-2933-40ac-9d58-7cd66fcb6d17",
   "metadata": {},
   "outputs": [],
   "source": [
    "#by_depth[2]"
   ]
  },
  {
   "cell_type": "code",
   "execution_count": 23,
   "id": "7fb17f2e-88ce-45a3-85aa-dd744ecec97b",
   "metadata": {},
   "outputs": [
    {
     "name": "stdout",
     "output_type": "stream",
     "text": [
      "0\n",
      "0\n",
      "0\n",
      "0\n",
      "0\n",
      "0\n",
      "0\n",
      "0\n",
      "5\n",
      "6\n"
     ]
    }
   ],
   "source": [
    "for d in by_depth:\n",
    "    c = 0\n",
    "    for _, winning_state, _ in d.values():\n",
    "        if winning_state[0] == 4:\n",
    "            c += 1\n",
    "    print(c)"
   ]
  },
  {
   "cell_type": "code",
   "execution_count": 24,
   "id": "f56e68ca-a349-4c3b-a3b1-d89a1b4f4a74",
   "metadata": {},
   "outputs": [
    {
     "name": "stdout",
     "output_type": "stream",
     "text": [
      "1\n",
      "6\n",
      "28\n",
      "102\n",
      "266\n",
      "430\n",
      "439\n",
      "242\n",
      "63\n",
      "0\n"
     ]
    }
   ],
   "source": [
    "for d in by_depth:\n",
    "    c = 0\n",
    "    for _, winning_state, _ in d.values():\n",
    "        if winning_state[0] == 0:\n",
    "            c += 1\n",
    "    print(c)"
   ]
  },
  {
   "cell_type": "code",
   "execution_count": 25,
   "id": "a755d547-5da7-437b-ae6b-90e748f3ac5a",
   "metadata": {},
   "outputs": [
    {
     "name": "stderr",
     "output_type": "stream",
     "text": [
      "/home/jon/.local/lib/python3.10/site-packages/matplotlib/projections/__init__.py:63: UserWarning: Unable to import Axes3D. This may be due to multiple versions of Matplotlib being installed (e.g. as a system package and as a pip package). As a result, the 3D projection is not available.\n",
      "  warnings.warn(\"Unable to import Axes3D. This may be due to multiple versions of \"\n"
     ]
    },
    {
     "data": {
      "image/png": "[encoded data removed]",
      "text/plain": [
       "<Figure size 640x480 with 1 Axes>"
      ]
     },
     "metadata": {},
     "output_type": "display_data"
    }
   ],
   "source": [
    "import matplotlib.pyplot as plt\n",
    "\n",
    "for i, d in enumerate(by_depth[:3]):\n",
    "    plt.plot([i]*len(d), range(len(d)), '.')\n",
    "    #print(f'depth {i=}, {len(d)=}')\n",
    "\n",
    "    for j, e in enumerate(d.values()):\n",
    "        #print(f'{j=}, {e=}')\n",
    "        for y in e[2]:\n",
    "            #print(i, j, int(y))\n",
    "            plt.plot((i-1,i), (y, j))\n",
    "plt.show()"
   ]
  },
  {
   "cell_type": "code",
   "execution_count": 26,
   "id": "2d5e55cb-079c-4620-9fab-3eae732533fc",
   "metadata": {},
   "outputs": [],
   "source": [
    "# backpropagate winning status\n",
    "\n",
    "# set all in last row to be draws if they have 0 set as winning\n",
    "#c = 0\n",
    "#for _, winning_state, _ in by_depth[-1].values():\n",
    "#    if winning_state[0] == 0:\n",
    "#        c += 1\n",
    "#        winning_state[0] = 4\n",
    "#c"
   ]
  },
  {
   "cell_type": "code",
   "execution_count": 27,
   "id": "e7c67a17-add7-4dbc-be5f-8aab00fb17bb",
   "metadata": {},
   "outputs": [
    {
     "name": "stdout",
     "output_type": "stream",
     "text": [
      "136\n",
      "916\n",
      "2472\n",
      "3220\n",
      "2380\n",
      "1048\n",
      "284\n",
      "48\n",
      "6\n"
     ]
    }
   ],
   "source": [
    "# [1, 2, 3, 4, 5] -> (4,5), (3,4), (2,3), (1,2)\n",
    "def pairwise_reversed(it):\n",
    "    return reversed(list(zip(it[:-1], it[1:])))\n",
    "\n",
    "for a, b in pairwise_reversed(by_depth):\n",
    "    va = a.values()\n",
    "    vb = b.values()\n",
    "\n",
    "    c = 0\n",
    "    for _, winning_state, from_index in vb:\n",
    "        for i in from_index:\n",
    "            va[i][1][0] |= winning_state[0]\n",
    "            c += 1\n",
    "    print(c)"
   ]
  },
  {
   "cell_type": "code",
   "execution_count": 28,
   "id": "9dbede76-8bf6-4b11-a746-e9398ec07927",
   "metadata": {},
   "outputs": [
    {
     "data": {
      "text/plain": [
       "SortedDict({'000000000': (array([[0, 0, 0],\n",
       "       [0, 0, 0],\n",
       "       [0, 0, 0]], dtype=int8), [7], [])})"
      ]
     },
     "execution_count": 28,
     "metadata": {},
     "output_type": "execute_result"
    }
   ],
   "source": [
    "by_depth[0]"
   ]
  },
  {
   "cell_type": "code",
   "execution_count": 29,
   "id": "ed7cb271-4a1c-47b0-8164-26a9655547ec",
   "metadata": {},
   "outputs": [
    {
     "name": "stdout",
     "output_type": "stream",
     "text": [
      "0 1\n",
      "[[0 1 0]\n",
      " [0 1 0]\n",
      " [0 1 0]]\n",
      "8 2\n",
      "[[0 2 0]\n",
      " [0 2 0]\n",
      " [0 2 0]]\n",
      "20 3\n",
      "[[1 0 0]\n",
      " [0 0 2]\n",
      " [0 2 0]]\n",
      "21 1\n",
      "[[1 0 0]\n",
      " [0 1 0]\n",
      " [0 0 1]]\n",
      "28 3\n",
      "[[1 0 1]\n",
      " [0 0 0]\n",
      " [0 2 0]]\n",
      "37 3\n",
      "[[1 1 0]\n",
      " [0 0 2]\n",
      " [0 0 0]]\n",
      "40 3\n",
      "[[1 1 0]\n",
      " [1 0 0]\n",
      " [0 0 0]]\n",
      "41 1\n",
      "[[1 1 1]\n",
      " [0 0 0]\n",
      " [0 0 0]]\n",
      "54 3\n",
      "[[2 0 0]\n",
      " [0 0 1]\n",
      " [0 1 0]]\n",
      "63 2\n",
      "[[2 0 0]\n",
      " [0 2 0]\n",
      " [0 0 2]]\n",
      "71 3\n",
      "[[2 0 1]\n",
      " [0 0 1]\n",
      " [0 0 0]]\n",
      "75 3\n",
      "[[2 0 2]\n",
      " [0 0 0]\n",
      " [0 1 0]]\n",
      "98 3\n",
      "[[2 2 0]\n",
      " [0 0 0]\n",
      " [1 0 0]]\n",
      "100 3\n",
      "[[2 2 0]\n",
      " [0 0 1]\n",
      " [0 0 0]]\n",
      "105 3\n",
      "[[2 2 0]\n",
      " [2 0 0]\n",
      " [0 0 0]]\n",
      "107 2\n",
      "[[2 2 2]\n",
      " [0 0 0]\n",
      " [0 0 0]]\n"
     ]
    }
   ],
   "source": [
    "for i, (board, winning_state, _) in enumerate(by_depth[3].values()):\n",
    "    if winning_state[0] != 7:\n",
    "        print(i, winning_state[0])\n",
    "        print(board)"
   ]
  },
  {
   "cell_type": "code",
   "execution_count": 30,
   "id": "95d94474-80e7-4a98-adeb-797de6332af8",
   "metadata": {},
   "outputs": [
    {
     "name": "stdout",
     "output_type": "stream",
     "text": [
      "0\n",
      "0\n",
      "0\n",
      "16\n",
      "114\n",
      "348\n",
      "587\n",
      "566\n",
      "272\n",
      "60\n"
     ]
    }
   ],
   "source": [
    "for d in by_depth:\n",
    "    c = 0\n",
    "    for i, (board, winning_state, _) in enumerate(d.values()):\n",
    "        if winning_state[0] != 7:\n",
    "            c += 1\n",
    "    print(c)"
   ]
  },
  {
   "cell_type": "code",
   "execution_count": 31,
   "id": "fcfad4b1-067f-48ca-9d3d-66555fa5857c",
   "metadata": {},
   "outputs": [
    {
     "name": "stdout",
     "output_type": "stream",
     "text": [
      "0\n",
      "0\n",
      "0\n",
      "0\n",
      "0\n",
      "0\n",
      "0\n",
      "0\n",
      "0\n",
      "0\n"
     ]
    }
   ],
   "source": [
    "for d in by_depth:\n",
    "    c = 0\n",
    "    for i, (board, winning_state, _) in enumerate(d.values()):\n",
    "        if winning_state[0] == 0:\n",
    "            c += 1\n",
    "    print(c)"
   ]
  },
  {
   "cell_type": "code",
   "execution_count": 32,
   "id": "a6f95217-36d8-4158-8c7d-49a1630f7fa3",
   "metadata": {},
   "outputs": [],
   "source": [
    "import json\n",
    "\n",
    "all_winstates = SortedDict()\n",
    "for i in range(len(by_depth)):\n",
    "    for key in by_depth[i]:\n",
    "        #print(key)\n",
    "        #print(winstates[key])\n",
    "        all_winstates[key] = by_depth[i][key][1][0]\n",
    "\n",
    "with open('../micro_winstates.json', 'w') as f:\n",
    "    json.dump(all_winstates, f, ensure_ascii=False, indent=2)"
   ]
  }
 ],
 "metadata": {
  "kernelspec": {
   "display_name": "Python 3 (ipykernel)",
   "language": "python",
   "name": "python3"
  },
  "language_info": {
   "codemirror_mode": {
    "name": "ipython",
    "version": 3
   },
   "file_extension": ".py",
   "mimetype": "text/x-python",
   "name": "python",
   "nbconvert_exporter": "python",
   "pygments_lexer": "ipython3",
   "version": "3.10.12"
  }
 },
 "nbformat": 4,
 "nbformat_minor": 5
}
